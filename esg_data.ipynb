{
 "cells": [
  {
   "cell_type": "code",
   "execution_count": null,
   "id": "fd2e2e61",
   "metadata": {},
   "outputs": [],
   "source": [
    "# import libraries\n",
    "import pandas as pd\n",
    "import matplotlib.pyplot as plt\n",
    "import seaborn as sns\n",
    "\n",
    "# read data from ESG and financial performance dataset\n",
    "df = pd.read_csv('company_esg_financial_dataset.csv')\n",
    "\n",
    "# show first rows of dataset\n",
    "df.head()"
   ]
  },
  {
   "cell_type": "code",
   "execution_count": null,
   "id": "22f7bb15",
   "metadata": {},
   "outputs": [],
   "source": [
    "# basic information about the dataset\n",
    "print(df.info())\n",
    "\n",
    "# number of rows and columns\n",
    "print(df.shape)\n",
    "\n",
    "# column names\n",
    "print(df.columns)\n",
    "\n",
    "# statistic summary of numeric columns\n",
    "print(df.describe())\n",
    "\n",
    "# count missing values of each column\n",
    "print(df.isna().sum())"
   ]
  },
  {
   "cell_type": "code",
   "execution_count": null,
   "id": "c8ce749f",
   "metadata": {},
   "outputs": [],
   "source": []
  }
 ],
 "metadata": {
  "language_info": {
   "name": "python"
  }
 },
 "nbformat": 4,
 "nbformat_minor": 5
}
