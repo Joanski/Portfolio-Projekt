{
 "cells": [
  {
   "cell_type": "code",
   "execution_count": null,
   "id": "fd2e2e61",
   "metadata": {},
   "outputs": [],
   "source": [
    "# import libraries\n",
    "import pandas as pd\n",
    "import matplotlib.pyplot as plt\n",
    "import seaborn as sns\n",
    "\n",
    "# read data from ESG and financial performance dataset\n",
    "df = pd.read_csv('../data/company_esg_financial_dataset.csv')\n",
    "\n",
    "# show first rows of dataset\n",
    "df.head()"
   ]
  },
  {
   "cell_type": "code",
   "execution_count": null,
   "id": "22f7bb15",
   "metadata": {},
   "outputs": [],
   "source": [
    "# basic information about the dataset\n",
    "df.info()"
   ]
  },
  {
   "cell_type": "code",
   "execution_count": null,
   "id": "d4529192",
   "metadata": {},
   "outputs": [],
   "source": [
    "# number of rows and columns\n",
    "df.shape"
   ]
  },
  {
   "cell_type": "code",
   "execution_count": null,
   "id": "c1102d74",
   "metadata": {},
   "outputs": [],
   "source": [
    "# statistic summary of numeric columns\n",
    "df.describe()"
   ]
  },
  {
   "cell_type": "code",
   "execution_count": null,
   "id": "ff1a4f49",
   "metadata": {},
   "outputs": [],
   "source": [
    "# "
   ]
  },
  {
   "cell_type": "code",
   "execution_count": null,
   "id": "3bda6dc4",
   "metadata": {},
   "outputs": [],
   "source": [
    "# count missing values of each column\n",
    "df.isna().sum()"
   ]
  },
  {
   "cell_type": "code",
   "execution_count": null,
   "id": "4846907d",
   "metadata": {},
   "outputs": [],
   "source": [
    "## deal with missing values\n",
    "# check number of rows without missing values\n",
    "df['GrowthRate'].dropna().shape[0]"
   ]
  },
  {
   "cell_type": "code",
   "execution_count": null,
   "id": "65f16111",
   "metadata": {},
   "outputs": [],
   "source": [
    "# fill missing values in 'GrowthRate' (numerical) with the median\n",
    "df['GrowthRate'] = df['GrowthRate'].fillna(df['GrowthRate'].median())\n",
    "\n",
    "# show remaining missing values of each column\n",
    "df.isna().sum()"
   ]
  },
  {
   "cell_type": "code",
   "execution_count": null,
   "id": "c882e864",
   "metadata": {},
   "outputs": [],
   "source": [
    "# plot distribution of numerical columns\n",
    "numeric_cols = ['Revenue', 'ProfitMargin', 'MarketCap', 'GrowthRate',\n",
    "                'CarbonEmissions', 'WaterUsage', 'EnergyConsumption']\n",
    "\n",
    "# create figure with subplot\n",
    "plt.figure(figsize=(16, 12))\n",
    "\n",
    "i = 1\n",
    "for col in numeric_cols:\n",
    "    plt.subplot(3, 3, i)\n",
    "    sns.histplot(df[col], kde=True, bins=30)\n",
    "    plt.title(f'Distribution of {col}')\n",
    "    i += 1  # subplot index +1\n",
    "\n",
    "plt.tight_layout()\n",
    "plt.show()\n"
   ]
  },
  {
   "cell_type": "code",
   "execution_count": null,
   "id": "c16bbc86",
   "metadata": {},
   "outputs": [],
   "source": [
    "# ProfitMargin & GrowthRate: gut verteilte Spalten (ziemlich normalverteilt)\n",
    "# Revenue, MarketCap. CarbonEmissions, WaterUsage, EnergyConsumption: extrem rechtsschief --> hohe Maximalwerte im Vergleich zum Median, viele kleine Werte nahe 0 und wenige riesige Ausreißer"
   ]
  },
  {
   "cell_type": "code",
   "execution_count": null,
   "id": "4226227a",
   "metadata": {},
   "outputs": [],
   "source": [
    "# check outliers / how many values are exactly 0\n",
    "print((df['Revenue'] == 0).sum())\n",
    "print((df['MarketCap'] == 0).sum())\n",
    "print((df['CarbonEmissions'] == 0).sum())\n",
    "print((df['EnergyConsumption'] == 0).sum())\n",
    "print((df['WaterUsage'] == 0).sum())"
   ]
  },
  {
   "cell_type": "code",
   "execution_count": null,
   "id": "55475948",
   "metadata": {},
   "outputs": [],
   "source": [
    "# group by Industry and calculate mean ESG and financial indicators\n",
    "groupby_industry = df.groupby('Industry')[[\n",
    "    'ESG_Overall', 'ESG_Environmental', 'ESG_Social', 'ESG_Governance',\n",
    "    'Revenue', 'ProfitMargin', 'MarketCap', 'GrowthRate'\n",
    "]].mean().sort_values('ESG_Overall', ascending=False)\n",
    "\n",
    "# show top industries\n",
    "groupby_industry"
   ]
  },
  {
   "cell_type": "code",
   "execution_count": null,
   "id": "b1a0942c",
   "metadata": {},
   "outputs": [],
   "source": [
    "# Finance und Technology mit höchsten ESG_Overall-Werten\n",
    "# Finance und Technology kombinieren hohe ESG-Werte mit hohem/überdurchschnittlichem Profit\n",
    "# Hohe ESG-Werte müssen nicht mit höchsten ESG_Governance-Werten einhergehen\n",
    "# Retail hat moderate ESG-Werte, aber auffällig niedrige Profit Margin\n",
    "# starke Unterschiede in ESG-Schwerpunkten und Profitabilität zwischen den Branchen"
   ]
  },
  {
   "cell_type": "code",
   "execution_count": null,
   "id": "a1db8754",
   "metadata": {},
   "outputs": [],
   "source": [
    "# group by region and calculate mean values for ESG and financial metrics\n",
    "groupby_region = df.groupby('Region')[[\n",
    "    'ESG_Overall', 'ESG_Environmental', 'ESG_Social', 'ESG_Governance',\n",
    "    'Revenue', 'ProfitMargin', 'MarketCap', 'GrowthRate'\n",
    "]].mean().sort_values('ESG_Overall', ascending=False)\n",
    "\n",
    "# show top regions\n",
    "groupby_region.head()"
   ]
  },
  {
   "cell_type": "code",
   "execution_count": null,
   "id": "24d8feeb",
   "metadata": {},
   "outputs": [],
   "source": [
    "# Europa hat höchsten ESG-Wert (v. a. starke Governance), aber nicht den höchsten Profit\n",
    "# Profit Margin leicht schwankend über Regionen\n",
    "# ESG-Wert und Profit teils unabhängig voneinander verteilt über Regionen"
   ]
  },
  {
   "cell_type": "code",
   "execution_count": null,
   "id": "0f54b689",
   "metadata": {},
   "outputs": [],
   "source": [
    "# group by year and calculate mean and standard deviation\n",
    "groupby_year = df.groupby('Year')[[\n",
    "    'ESG_Overall', 'Revenue', 'ProfitMargin'\n",
    "]].agg(['mean', 'std'])\n",
    "\n",
    "# show the result\n",
    "groupby_year"
   ]
  },
  {
   "cell_type": "code",
   "execution_count": null,
   "id": "037f282a",
   "metadata": {},
   "outputs": [],
   "source": [
    "# ESG_Overall steigt steigt kontinuierlich von 2015 bis 2025.\n",
    "# Revenue steigt auch – aber variiert leicht\n",
    "# Profit: sogar ein leichter Rückgang bzw. relativ  stabil um ~11 %, aber insg. kaum Veränderung\n",
    "# Unternehmen werden nachhaltiger, ohne dass es ihre Gewinnmargen sichtbar beeinflusst (positiv oder negativ)"
   ]
  },
  {
   "cell_type": "code",
   "execution_count": null,
   "id": "9de57aa7",
   "metadata": {},
   "outputs": [],
   "source": [
    "# group by industry and region to compare ESG and profit\n",
    "groupby_industry_and_region = df.groupby(['Industry', 'Region'])[\n",
    "    ['ESG_Overall', 'ProfitMargin']\n",
    "].mean()\n",
    "\n",
    "# Display first rows\n",
    "groupby_industry_and_region.head()"
   ]
  },
  {
   "cell_type": "code",
   "execution_count": null,
   "id": "236c4127",
   "metadata": {},
   "outputs": [],
   "source": [
    "# Regionale ESG/Profit-Unterschiede innerhalb einer Branche\n",
    "# ESG-Scores variieren stark zwischen Regionen innerhalb derselben Branche\n",
    "# z. B. Finance in Europa sehr ESG-stark, in Afrika deutlich niedriger\n",
    "# Profitverteilung ist sehr branchenabhängig, mit regionalen Unterschieden"
   ]
  },
  {
   "cell_type": "code",
   "execution_count": null,
   "id": "ee5886f0",
   "metadata": {},
   "outputs": [],
   "source": [
    "# scatterplot: ESG_Overall vs. ProfitMargin, colored by Industry\n",
    "plt.figure(figsize=(8, 6))\n",
    "sns.scatterplot(data=df, x='ESG_Overall', y='ProfitMargin', hue='Industry', alpha=0.6)\n",
    "plt.title('ESG Overall Score vs. Profit Margin')\n",
    "plt.legend(loc='best') # legend at best position\n",
    "plt.tight_layout()\n",
    "plt.show()"
   ]
  },
  {
   "cell_type": "code",
   "execution_count": null,
   "id": "9aa33847",
   "metadata": {},
   "outputs": [],
   "source": [
    "# identify industries with hy environmental impact\n",
    "# average environmental impact (Carbon Emissions and Energy Consumption) per industry\n",
    "impact_by_industry = df.groupby('Industry')[['CarbonEmissions', 'EnergyConsumption']].mean().sort_values('CarbonEmissions', ascending=False)\n",
    "\n",
    "# bar chart\n",
    "impact_by_industry.plot(kind='bar', figsize=(12, 6))\n",
    "plt.title('Durchschnittliche Umweltbelastung pro Branche')\n",
    "plt.xlabel('Branche')\n",
    "plt.ylabel('Durchschnittlicher Wert')\n",
    "plt.xticks(rotation=45)\n",
    "plt.legend(title='Umweltindikator')\n",
    "plt.tight_layout()\n",
    "plt.show()\n",
    "\n"
   ]
  },
  {
   "cell_type": "code",
   "execution_count": null,
   "id": "b060fb5f",
   "metadata": {},
   "outputs": [],
   "source": [
    "# Energybranche hat mit Abstand höchsten Werte bei CO2-Emissionen und Energieverbrauch\n",
    "# extrem hoher Energieverbrauch (~8e7) --> Ausreißer\n",
    "# auch Utilities und Manufacturing haben hohe Umweltindikatoren → hoher Ressourceneinsatz in der Produktion \n",
    "# Branchen wie Finance, Retail, Healthcare, Consumer Goods haben vergleichsweise sehr niedrige Emissionswerte\n",
    "# → indirekte/geringere Umweltwirkung, weil Dienstleistungen statt Produktion\n",
    "\n",
    "# ESG-Bewertung sollte branchenspezifisch interpretiert werden\n",
    "# nicht alle Unternehmen verursachen ähnliche Umweltbelastungen"
   ]
  },
  {
   "cell_type": "code",
   "execution_count": null,
   "id": "3dfb9d5a",
   "metadata": {},
   "outputs": [],
   "source": [
    "# boxplot of ProfitMargin by Industry\n",
    "plt.figure(figsize=(12, 6))\n",
    "sns.boxplot(data=df, x='Industry', y='ProfitMargin')\n",
    "plt.xticks(rotation=45)\n",
    "plt.title('Profit Margin by Industry')\n",
    "plt.show()"
   ]
  },
  {
   "cell_type": "code",
   "execution_count": null,
   "id": "f7d6c7a4",
   "metadata": {},
   "outputs": [],
   "source": [
    "# boxplot of ESG_Overall by Region\n",
    "plt.figure(figsize=(10, 6))\n",
    "sns.boxplot(data=df, x='Region', y='ESG_Overall')\n",
    "plt.xticks(rotation=45)\n",
    "plt.title('ESG Overall Score by Region')\n",
    "plt.show()"
   ]
  },
  {
   "cell_type": "code",
   "execution_count": null,
   "id": "e4d2b13b",
   "metadata": {},
   "outputs": [],
   "source": [
    "# lineplot Year and ESG_Overall "
   ]
  },
  {
   "cell_type": "code",
   "execution_count": null,
   "id": "4a808574",
   "metadata": {},
   "outputs": [],
   "source": [
    "# heatmap for Industry vs. Region"
   ]
  },
  {
   "cell_type": "code",
   "execution_count": null,
   "id": "9cbddeca",
   "metadata": {},
   "outputs": [],
   "source": [
    "# average ESG category scores per industry\n",
    "esg_by_industry = df.groupby('Industry')[['ESG_Environmental', 'ESG_Social', 'ESG_Governance']].mean().sort_values('ESG_Environmental', ascending=False)\n",
    "\n",
    "# bar chart\n",
    "esg_by_industry.plot(kind='bar', figsize=(12, 6))\n",
    "plt.title('Average ESG Category Scores by Industry')\n",
    "plt.xlabel('Industry')\n",
    "plt.ylabel('Score')\n",
    "plt.legend(title='ESG Category')\n",
    "plt.xticks(rotation=45)\n",
    "plt.tight_layout()\n",
    "plt.show()\n"
   ]
  },
  {
   "cell_type": "code",
   "execution_count": null,
   "id": "842eb847",
   "metadata": {},
   "outputs": [],
   "source": [
    "# Finance und Technology haben die höchsten Environmental-Werte\n",
    "# Energy und Transportation schneiden im Umweltbereich am schlechtesten ab, obwohl sie tendenziell höheren ökologischen Impact haben\n",
    "# Consumer Goods, Retail und Utilities recht ausgewogen zwischen den 3 Kategorien\n",
    "# Hoher Umwelt-Score spiegelt nicht unbedingt realen Impact wider"
   ]
  },
  {
   "cell_type": "code",
   "execution_count": null,
   "id": "07e111a9",
   "metadata": {},
   "outputs": [],
   "source": [
    "# average ESG category scores per region\n",
    "esg_by_region = df.groupby('Region')[['ESG_Environmental', 'ESG_Social', 'ESG_Governance']].mean().sort_values('ESG_Environmental', ascending=False)\n",
    "\n",
    "# bar chart\n",
    "esg_by_region.plot(kind='bar', figsize=(10, 6))\n",
    "plt.title('Average ESG Category Scores by Region')\n",
    "plt.xlabel('Region')\n",
    "plt.ylabel('Score')\n",
    "plt.legend(title='ESG Category')\n",
    "plt.xticks(rotation=45)\n",
    "plt.tight_layout()\n",
    "plt.show()\n"
   ]
  },
  {
   "cell_type": "code",
   "execution_count": null,
   "id": "7b568a2d",
   "metadata": {},
   "outputs": [],
   "source": [
    "# Europa führt bei Social und Governance\n",
    "# Nordamerika hat hohe Governance-Werte (ca. 69)\n",
    "# Afrika und Naher Osten liegen v. a. bei Governance deutlich zurück\n",
    "# Unterschiede vermutlich durch regionale ESG-Vorgaben und Standards"
   ]
  },
  {
   "cell_type": "code",
   "execution_count": null,
   "id": "e5543d75",
   "metadata": {},
   "outputs": [],
   "source": [
    "# yearly average ESG scores\n",
    "esg_by_year = df.groupby('Year')[['ESG_Environmental', 'ESG_Social', 'ESG_Governance']].mean().reset_index()\n",
    "\n",
    "# line chart\n",
    "plt.figure(figsize=(10, 6))\n",
    "sns.lineplot(data=esg_by_year, x='Year', y='ESG_Environmental', label='Environmental')\n",
    "sns.lineplot(data=esg_by_year, x='Year', y='ESG_Social', label='Social')\n",
    "sns.lineplot(data=esg_by_year, x='Year', y='ESG_Governance', label='Governance')\n",
    "plt.title('Trends in ESG Categories Over Time')\n",
    "plt.xlabel('Year')\n",
    "plt.ylabel('Average Score')\n",
    "plt.legend(title='ESG Category')\n",
    "plt.tight_layout()\n",
    "plt.show()\n"
   ]
  },
  {
   "cell_type": "code",
   "execution_count": null,
   "id": "ce25badb",
   "metadata": {},
   "outputs": [],
   "source": [
    "# Alle ESG-Kategorien steigen kontinuierlich von 2015 bis 2025\n",
    "# Stärkster Anstieg: Environmental, danach Social\n",
    "# Governance verbessert sich langsamer\n",
    "# ESG-Fokus nimmt allgemein zu, besonders auf Umwelt- und Sozialthemen"
   ]
  },
  {
   "cell_type": "code",
   "execution_count": null,
   "id": "b192f34f",
   "metadata": {},
   "outputs": [],
   "source": [
    "# Which ESG area improved the most along with profit?\n",
    "# group by year and calculate average\n",
    "esg_profit_by_year = df.groupby('Year')[\n",
    "    ['ESG_Environmental', 'ESG_Social', 'ESG_Governance', 'ProfitMargin']\n",
    "].mean().reset_index()\n",
    "\n",
    "# ESG-trends and Profit-trend in one plot\n",
    "plt.figure(figsize=(12, 6))\n",
    "sns.lineplot(data=esg_profit_by_year, x='Year', y='ESG_Environmental', label='Environmental')\n",
    "sns.lineplot(data=esg_profit_by_year, x='Year', y='ESG_Social', label='Social')\n",
    "sns.lineplot(data=esg_profit_by_year, x='Year', y='ESG_Governance', label='Governance')\n",
    "sns.lineplot(data=esg_profit_by_year, x='Year', y='ProfitMargin', label='ProfitMargin', linestyle='--')\n",
    "\n",
    "plt.title('Entwicklung von ESG-Kategorien und Gewinnmarge (2015–2025)')\n",
    "plt.xlabel('Jahr')\n",
    "plt.ylabel('Durchschnittlicher Score / Profit (%)')\n",
    "plt.legend(title='Kategorie')\n",
    "plt.tight_layout()\n",
    "plt.show()\n"
   ]
  },
  {
   "cell_type": "code",
   "execution_count": null,
   "id": "4225fa35",
   "metadata": {},
   "outputs": [],
   "source": [
    "# correlations between ESG-categories and ProfitMargin\n",
    "esg_cols = ['ESG_Environmental', 'ESG_Social', 'ESG_Governance']\n",
    "for col in esg_cols:\n",
    "    corr = df[[col, 'ProfitMargin']].corr().iloc[0, 1]\n",
    "    print(f\"Correlation between {col} and ProfitMargin: {corr:.2f}\")\n"
   ]
  },
  {
   "cell_type": "code",
   "execution_count": null,
   "id": "9569c43c",
   "metadata": {},
   "outputs": [],
   "source": [
    "# correlation matrix for numeric columns - Correlation between ESG-Performance and Profit?\n",
    "numeric_cols = [\n",
    "    'Year', 'ESG_Overall', 'ESG_Environmental', 'ESG_Social', 'ESG_Governance',\n",
    "    'Revenue', 'ProfitMargin', 'MarketCap', 'GrowthRate',\n",
    "    'CarbonEmissions', 'WaterUsage', 'EnergyConsumption'\n",
    "]\n",
    "corr_matrix = df.loc[:, numeric_cols].corr()\n",
    "\n",
    "fig, ax = plt.subplots(figsize=(12, 8))\n",
    "\n",
    "# plot heatmap\n",
    "sns.heatmap(corr_matrix, annot=True, fmt=\".2f\",\n",
    "            cmap=\"coolwarm\", center=0, linewidths=0.5,\n",
    "            ax=ax)\n",
    "\n",
    "# set title\n",
    "ax.set_title(\"Correlation Matrix of ESG, Governance and Environmental Variables\")\n",
    "\n",
    "# show plot\n",
    "plt.show()\n"
   ]
  },
  {
   "cell_type": "code",
   "execution_count": null,
   "id": "213148f2",
   "metadata": {},
   "outputs": [],
   "source": []
  },
  {
   "cell_type": "code",
   "execution_count": null,
   "id": "cfd65de8",
   "metadata": {},
   "outputs": [],
   "source": [
    "## unique values of categorical columns\n",
    "# categorical columns\n",
    "cat_cols = ['Industry', 'Region', 'Year']\n",
    "\n",
    "# show unique values and % of each value for categorical columns\n",
    "for col in cat_cols:\n",
    "    print(f'\\n--- {col} ---')\n",
    "    print(df[col].value_counts(normalize=True).round(3))  # in %\n",
    "    print(df[col].nunique())\n"
   ]
  },
  {
   "cell_type": "code",
   "execution_count": null,
   "id": "bbcc43d6",
   "metadata": {},
   "outputs": [],
   "source": [
    "## clustering: KMeans to identify groups of companies\n",
    "from sklearn.preprocessing import StandardScaler\n",
    "from sklearn.cluster import KMeans\n",
    "\n",
    "# select numeric columns\n",
    "features = df[[\n",
    "    'ESG_Overall', 'ESG_Environmental', 'ESG_Social', 'ESG_Governance',\n",
    "    'ProfitMargin', 'Revenue', 'MarketCap', 'GrowthRate',\n",
    "    'CarbonEmissions', 'WaterUsage', 'EnergyConsumption'\n",
    "]]\n",
    "\n",
    "# standardize features\n",
    "scaler = StandardScaler()\n",
    "features_scaled = scaler.fit_transform(features)\n",
    "\n",
    "# KMeans clustering\n",
    "kmeans = KMeans(n_clusters=4, random_state=42) # n_clusters ggf. anpassen\n",
    "df['Cluster'] = kmeans.fit_predict(features_scaled)\n",
    "\n",
    "# visualize clusters\n",
    "plt.figure(figsize=(8, 6))\n",
    "sns.scatterplot(data=df, x='ESG_Overall', y='ProfitMargin', hue='Cluster', palette='Set2')\n",
    "plt.title('KMeans Clustering')\n",
    "plt.tight_layout()\n",
    "plt.show()\n",
    "\n"
   ]
  }
 ],
 "metadata": {
  "kernelspec": {
   "display_name": "portfolio-projekt",
   "language": "python",
   "name": "python3"
  },
  "language_info": {
   "codemirror_mode": {
    "name": "ipython",
    "version": 3
   },
   "file_extension": ".py",
   "mimetype": "text/x-python",
   "name": "python",
   "nbconvert_exporter": "python",
   "pygments_lexer": "ipython3",
   "version": "3.9.6"
  }
 },
 "nbformat": 4,
 "nbformat_minor": 5
}
